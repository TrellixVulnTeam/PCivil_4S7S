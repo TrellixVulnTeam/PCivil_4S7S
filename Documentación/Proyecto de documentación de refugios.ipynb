{
 "cells": [
  {
   "cell_type": "markdown",
   "metadata": {},
   "source": [
    "# Documentación para la aplicación de refugios temporada de Huracanes 2018"
   ]
  },
  {
   "cell_type": "markdown",
   "metadata": {},
   "source": [
    "El primer paso es crear la estructura de campos de la base de datos que contendrá el modelo que se definirá mas adelante en la aplicación que crearemos en Django. Los campos que vamos a crear en una sola tabla serán:"
   ]
  },
  {
   "cell_type": "markdown",
   "metadata": {},
   "source": [
    "| Campo   | Tipo     | Descripcion |\n",
    "| :------ | :------- | :----------- |\n",
    "| ID      | Numerico | Clave primaria (pk). Autoincremental |\n",
    "| Clave municipio | Texto | ---- |\n",
    "| Tipo | Texto | Escuela, Iglesia, Edificio |\n",
    "| Nombre | Texto | ----|\n",
    "| Zona | Texto | Rural o Urbano |\n",
    "| Localidad | Texto | Catalogo |\n",
    "| Domicilio | Texto | ---- |\n",
    "| Responsable | Texto | ---- |\n",
    "| Telefono | Numerico | ---- |\n",
    "| Utilidad | Texto | Refugio, Albergue, Mixto |\n",
    "| Capacidad | Numerico | ---- |\n",
    "| Latitud | Numerico | ---- |\n",
    "| Longitud | Numerico | ---- |\n",
    "\n"
   ]
  },
  {
   "cell_type": "markdown",
   "metadata": {},
   "source": [
    "**Hay que encontrar la forma de importar las tablas de excel a una BD de Postgres y luego tomar esta tabla para generar el modelo en Django**"
   ]
  },
  {
   "cell_type": "markdown",
   "metadata": {},
   "source": [
    "Ahora estoy buscando como crear un repositorio en Github para subir las versiones."
   ]
  },
  {
   "cell_type": "code",
   "execution_count": null,
   "metadata": {
    "collapsed": true
   },
   "outputs": [],
   "source": []
  }
 ],
 "metadata": {
  "kernelspec": {
   "display_name": "Python 2",
   "language": "python",
   "name": "python2"
  },
  "language_info": {
   "codemirror_mode": {
    "name": "ipython",
    "version": 2
   },
   "file_extension": ".py",
   "mimetype": "text/x-python",
   "name": "python",
   "nbconvert_exporter": "python",
   "pygments_lexer": "ipython2",
   "version": "2.7.14"
  }
 },
 "nbformat": 4,
 "nbformat_minor": 2
}
